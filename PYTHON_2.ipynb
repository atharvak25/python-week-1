{
  "nbformat": 4,
  "nbformat_minor": 0,
  "metadata": {
    "colab": {
      "provenance": [],
      "collapsed_sections": [],
      "authorship_tag": "ABX9TyOuh4Rp5wF/UBUfmRHJlDBT",
      "include_colab_link": true
    },
    "kernelspec": {
      "name": "python3",
      "display_name": "Python 3"
    },
    "language_info": {
      "name": "python"
    }
  },
  "cells": [
    {
      "cell_type": "markdown",
      "metadata": {
        "id": "view-in-github",
        "colab_type": "text"
      },
      "source": [
        "<a href=\"https://colab.research.google.com/github/atharvak25/python-week-1/blob/main/PYTHON_2.ipynb\" target=\"_parent\"><img src=\"https://colab.research.google.com/assets/colab-badge.svg\" alt=\"Open In Colab\"/></a>"
      ]
    },
    {
      "cell_type": "code",
      "execution_count": null,
      "metadata": {
        "colab": {
          "base_uri": "https://localhost:8080/"
        },
        "id": "zfanGCxKKgnx",
        "outputId": "f255fa31-0c42-40e3-d797-0c6acaf842e7"
      },
      "outputs": [
        {
          "output_type": "stream",
          "name": "stdout",
          "text": [
            "hello python\n"
          ]
        }
      ],
      "source": [
        "# SECTION A :- FUNDAMENTALS OF PYTHON\n",
        "1. Write a Python program to print “Hello Python”\n",
        "\n",
        "print(\"hello python\")\n",
        "\n",
        "\n",
        "\n"
      ]
    },
    {
      "cell_type": "code",
      "source": [
        "2. Write a Python program to do arithmetical operations addition and division.?\n",
        "\n",
        "num1 = input('Enter first number: ')  \n",
        "num2 = input('Enter second number: ')  \n",
        "sum = float(num1) + float(num2)\n",
        "print(sum)\n",
        "div = float(num1) / float(num2)\n",
        "print(div)\n"
      ],
      "metadata": {
        "colab": {
          "base_uri": "https://localhost:8080/"
        },
        "id": "oG57GaNNZmJD",
        "outputId": "8791ba93-a4c8-48a8-f2db-2981c07a12b7"
      },
      "execution_count": null,
      "outputs": [
        {
          "output_type": "stream",
          "name": "stdout",
          "text": [
            "Enter first number: 10\n",
            "Enter second number: 15\n",
            "25.0\n",
            "0.6666666666666666\n"
          ]
        }
      ]
    },
    {
      "cell_type": "code",
      "source": [
        "3. Write a Python program to find the area of a triangle?\n",
        "\n",
        "a = float(input('Enter first side: '))  \n",
        "b = float(input('Enter second side: '))  \n",
        "area = 0.5*a*b\n",
        "print(area)"
      ],
      "metadata": {
        "colab": {
          "base_uri": "https://localhost:8080/"
        },
        "id": "GSC0nYQgZroC",
        "outputId": "d8cd2804-9f57-44b4-d545-3c7436aed03a"
      },
      "execution_count": null,
      "outputs": [
        {
          "output_type": "stream",
          "name": "stdout",
          "text": [
            "Enter first side: 10\n",
            "Enter second side: 15\n",
            "75.0\n"
          ]
        }
      ]
    },
    {
      "cell_type": "code",
      "source": [
        "4. # Write a Python program to swap two variables?\n",
        "\n",
        "P = int( input(\"Please enter value for P: \"))  \n",
        "Q = int( input(\"Please enter value for Q: \"))\n",
        "\n",
        "temp_1 = P  \n",
        "P = Q  \n",
        "Q = temp_1  \n",
        "   \n",
        "print (\"The Value of P after swapping: \", P)  \n",
        "print (\"The Value of Q after swapping: \", Q)  "
      ],
      "metadata": {
        "colab": {
          "base_uri": "https://localhost:8080/"
        },
        "id": "AxUUlsBQZ1R4",
        "outputId": "cfb4bd67-4e55-4ed2-81e2-ffd0cd132e59"
      },
      "execution_count": null,
      "outputs": [
        {
          "output_type": "stream",
          "name": "stdout",
          "text": [
            "Please enter value for P: 35\n",
            "Please enter value for Q: 45\n",
            "The Value of P after swapping:  45\n",
            "The Value of Q after swapping:  35\n"
          ]
        }
      ]
    },
    {
      "cell_type": "code",
      "source": [],
      "metadata": {
        "id": "pGekIayUo9I5"
      },
      "execution_count": null,
      "outputs": []
    },
    {
      "cell_type": "code",
      "source": [
        "5. Write a Python program to generate a random number?\n",
        "\n",
        "import random  \n",
        "n = random.random()  \n",
        "print(n)"
      ],
      "metadata": {
        "colab": {
          "base_uri": "https://localhost:8080/"
        },
        "id": "13jAVDsqbHFd",
        "outputId": "2c7d6e81-4194-4d66-ad0e-0a50b5a1fd9b"
      },
      "execution_count": null,
      "outputs": [
        {
          "output_type": "stream",
          "name": "stdout",
          "text": [
            "0.6794509039364464\n"
          ]
        }
      ]
    },
    {
      "cell_type": "code",
      "source": [
        "# SECTION B :- \n"
      ],
      "metadata": {
        "id": "_ir8Ad0McZcN"
      },
      "execution_count": null,
      "outputs": []
    },
    {
      "cell_type": "code",
      "source": [
        "# 1. Write a Python program to convert kilometers to miles?\n",
        "\n",
        "kilometre_1 = float (input (\"Please enter the speed of car in Kilometre as a unit: \"))  \n",
        "conversion_ratio_1 = 0.621371  \n",
        "miles_1 = kilometre_1 * conversion_ratio_1  \n",
        "print (\"The speed value of car in Miles: \", miles_1) "
      ],
      "metadata": {
        "colab": {
          "base_uri": "https://localhost:8080/"
        },
        "id": "2uEaWp5hcmSj",
        "outputId": "ab21fecb-a342-40b9-f6bd-e79b2fc1abac"
      },
      "execution_count": null,
      "outputs": [
        {
          "output_type": "stream",
          "name": "stdout",
          "text": [
            "Object `miles` not found.\n",
            "Please enter the speed of car in Kilometre as a unit: 55\n",
            "The speed value of car in Miles:  34.175405\n"
          ]
        }
      ]
    },
    {
      "cell_type": "code",
      "source": [
        "# 2. Write a Python program to convert Celsius to Fahrenheit?\n",
        "\n",
        "celsius_1 = float(input(\"Temperature value in degree Celsius: \" ))  \n",
        "Fahrenheit_1 = (celsius_1 * 1.8) + 32  \n",
        "print('The %.2f degree Celsius is equal to: %.2f Fahrenheit'  \n",
        "      %(celsius_1, Fahrenheit_1))  "
      ],
      "metadata": {
        "colab": {
          "base_uri": "https://localhost:8080/"
        },
        "id": "UcufrdKqc7Zq",
        "outputId": "b0cc2e75-2358-4028-e476-e4d287f98084"
      },
      "execution_count": null,
      "outputs": [
        {
          "output_type": "stream",
          "name": "stdout",
          "text": [
            "Object `Fahrenheit` not found.\n",
            "Temperature value in degree Celsius: 69\n",
            "The 69.00 degree Celsius is equal to: 156.20 Fahrenheit\n"
          ]
        }
      ]
    },
    {
      "cell_type": "code",
      "source": [
        "3. #Write a Python program to display calendar?\n",
        "\n",
        "import calendar\n",
        "\n",
        "y = 2022\n",
        "\n",
        "print(calendar.calendar(y))"
      ],
      "metadata": {
        "colab": {
          "base_uri": "https://localhost:8080/"
        },
        "id": "cTolrN0Ne3RU",
        "outputId": "50723fd1-081f-441a-ac37-1aa0970bdc20"
      },
      "execution_count": null,
      "outputs": [
        {
          "output_type": "stream",
          "name": "stdout",
          "text": [
            "                                  2022\n",
            "\n",
            "      January                   February                   March\n",
            "Mo Tu We Th Fr Sa Su      Mo Tu We Th Fr Sa Su      Mo Tu We Th Fr Sa Su\n",
            "                1  2          1  2  3  4  5  6          1  2  3  4  5  6\n",
            " 3  4  5  6  7  8  9       7  8  9 10 11 12 13       7  8  9 10 11 12 13\n",
            "10 11 12 13 14 15 16      14 15 16 17 18 19 20      14 15 16 17 18 19 20\n",
            "17 18 19 20 21 22 23      21 22 23 24 25 26 27      21 22 23 24 25 26 27\n",
            "24 25 26 27 28 29 30      28                        28 29 30 31\n",
            "31\n",
            "\n",
            "       April                      May                       June\n",
            "Mo Tu We Th Fr Sa Su      Mo Tu We Th Fr Sa Su      Mo Tu We Th Fr Sa Su\n",
            "             1  2  3                         1             1  2  3  4  5\n",
            " 4  5  6  7  8  9 10       2  3  4  5  6  7  8       6  7  8  9 10 11 12\n",
            "11 12 13 14 15 16 17       9 10 11 12 13 14 15      13 14 15 16 17 18 19\n",
            "18 19 20 21 22 23 24      16 17 18 19 20 21 22      20 21 22 23 24 25 26\n",
            "25 26 27 28 29 30         23 24 25 26 27 28 29      27 28 29 30\n",
            "                          30 31\n",
            "\n",
            "        July                     August                  September\n",
            "Mo Tu We Th Fr Sa Su      Mo Tu We Th Fr Sa Su      Mo Tu We Th Fr Sa Su\n",
            "             1  2  3       1  2  3  4  5  6  7                1  2  3  4\n",
            " 4  5  6  7  8  9 10       8  9 10 11 12 13 14       5  6  7  8  9 10 11\n",
            "11 12 13 14 15 16 17      15 16 17 18 19 20 21      12 13 14 15 16 17 18\n",
            "18 19 20 21 22 23 24      22 23 24 25 26 27 28      19 20 21 22 23 24 25\n",
            "25 26 27 28 29 30 31      29 30 31                  26 27 28 29 30\n",
            "\n",
            "      October                   November                  December\n",
            "Mo Tu We Th Fr Sa Su      Mo Tu We Th Fr Sa Su      Mo Tu We Th Fr Sa Su\n",
            "                1  2          1  2  3  4  5  6                1  2  3  4\n",
            " 3  4  5  6  7  8  9       7  8  9 10 11 12 13       5  6  7  8  9 10 11\n",
            "10 11 12 13 14 15 16      14 15 16 17 18 19 20      12 13 14 15 16 17 18\n",
            "17 18 19 20 21 22 23      21 22 23 24 25 26 27      19 20 21 22 23 24 25\n",
            "24 25 26 27 28 29 30      28 29 30                  26 27 28 29 30 31\n",
            "31\n",
            "\n"
          ]
        }
      ]
    },
    {
      "cell_type": "code",
      "source": [
        "4. # Write a Python program to solve quadratic equation?\n",
        "\n",
        "import cmath  \n",
        "a = float(input('Enter a: '))  \n",
        "b = float(input('Enter b: '))  \n",
        "c = float(input('Enter c: '))\n",
        "\n",
        "d = (b**2) - (4*a*c) \n",
        "\n",
        "sol1 = (-b-cmath.sqrt(d))/(2*a)  \n",
        "sol2 = (-b+cmath.sqrt(d))/(2*a)  \n",
        "print('The solution are {0} and {1}'.format(sol1,sol2)) "
      ],
      "metadata": {
        "colab": {
          "base_uri": "https://localhost:8080/"
        },
        "id": "SoXQ7y9ZY1p_",
        "outputId": "4bc1882a-3804-42d8-e1d7-8da96e0dfe64"
      },
      "execution_count": null,
      "outputs": [
        {
          "output_type": "stream",
          "name": "stdout",
          "text": [
            "Enter a: 6\n",
            "Enter b: 9\n",
            "Enter c: 4\n",
            "The solution are (-0.75-0.3227486121839514j) and (-0.75+0.3227486121839514j)\n"
          ]
        }
      ]
    },
    {
      "cell_type": "code",
      "source": [
        "5. # Write a Python program to swap two variables without temp variable?\n",
        "\n",
        "P = 112  \n",
        "Q = 211  \n",
        "   \n",
        "print (\"Variables Value Before Swapping: \")  \n",
        "print (\"Value of P: \", P)   \n",
        "print (\"Value of Q: \", Q)  \n",
        "   \n",
        "# Method to swap 'P' and 'Q'  \n",
        "P = P + Q # P = 323, Q = 211  \n",
        "Q = P - Q # P = 323, Q = 112  \n",
        "P = P - Q # P = 211, Q = 112  \n",
        "   \n",
        "print (\"Variables Value After Swapping: \")  \n",
        "print (\"Value of P: \", P)   \n",
        "print (\"Value of Q: \", Q)"
      ],
      "metadata": {
        "colab": {
          "base_uri": "https://localhost:8080/"
        },
        "id": "bQAneIEWaDjO",
        "outputId": "15defdb7-a3b4-4816-d024-022acf31c9ed"
      },
      "execution_count": null,
      "outputs": [
        {
          "output_type": "stream",
          "name": "stdout",
          "text": [
            "Variables Value Before Swapping: \n",
            "Value of P:  112\n",
            "Value of Q:  211\n",
            "Variables Value After Swapping: \n",
            "Value of P:  211\n",
            "Value of Q:  112\n"
          ]
        }
      ]
    },
    {
      "cell_type": "code",
      "source": [
        "# Section C:\n",
        "\n",
        "1. # Write a Python Program to Check if a Number is Positive, Negative or Zero?\n",
        "\n",
        "def NumberCheck(a):   \n",
        "    if a > 0:   \n",
        "        print(\"Number given by you is Positive\")   \n",
        "      \n",
        "    elif a < 0:   \n",
        "        print(\"Number given by you is Negative\")   \n",
        "      \n",
        "    else:   \n",
        "        print(\"Number given by you is zero\")  \n",
        "  \n",
        "a = float(input(\"Enter a number as input value: \"))  \n",
        "  \n",
        "NumberCheck(a) "
      ],
      "metadata": {
        "colab": {
          "base_uri": "https://localhost:8080/"
        },
        "id": "FoFWeWh5bKLv",
        "outputId": "4f45a809-fa79-4b0d-f7ef-a2465f94a18e"
      },
      "execution_count": null,
      "outputs": [
        {
          "output_type": "stream",
          "name": "stdout",
          "text": [
            "Enter a number as input value: 28\n",
            "Number given by you is Positive\n"
          ]
        }
      ]
    },
    {
      "cell_type": "code",
      "source": [
        "2. # Write a Python Program to Check if a Number is Odd or Even?\n",
        "\n",
        "num = int(input(\"Enter a number: \"))  \n",
        "if (num % 2) == 0:  \n",
        "   print(\"{0} is Even number\".format(num))  \n",
        "else:  \n",
        "   print(\"{0} is Odd number\".format(num)) "
      ],
      "metadata": {
        "colab": {
          "base_uri": "https://localhost:8080/"
        },
        "id": "Re2O7TZHbyQ3",
        "outputId": "3be7ed43-9b7d-4385-e40d-12839e51b576"
      },
      "execution_count": null,
      "outputs": [
        {
          "output_type": "stream",
          "name": "stdout",
          "text": [
            "Enter a number: 45\n",
            "45 is Odd number\n"
          ]
        }
      ]
    },
    {
      "cell_type": "code",
      "source": [
        "3. # Write a Python Program to Check Leap Year?\n",
        "\n",
        "def CheckLeap(Year):  \n",
        "   \n",
        "  if((Year % 400 == 0) or  \n",
        "     (Year % 100 != 0) and  \n",
        "     (Year % 4 == 0)):   \n",
        "    print(\"Given Year is a leap Year\");  \n",
        "\n",
        "  else:  \n",
        "    print (\"Given Year is not a leap Year\")  \n",
        "  \n",
        "Year = int(input(\"Enter the number: \"))  \n",
        "  \n",
        "CheckLeap(Year)"
      ],
      "metadata": {
        "colab": {
          "base_uri": "https://localhost:8080/"
        },
        "id": "faa3fenZcFLO",
        "outputId": "31ba5ece-7000-46fb-9cb2-e4ee301f1457"
      },
      "execution_count": null,
      "outputs": [
        {
          "output_type": "stream",
          "name": "stdout",
          "text": [
            "Enter the number: 2043\n",
            "Given Year is not a leap Year\n"
          ]
        }
      ]
    },
    {
      "cell_type": "code",
      "source": [
        "4. # Write a Python Program to Check Prime Number?\n",
        "\n",
        "def PrimeChecker(a):  \n",
        "    \n",
        "    if a > 1:  \n",
        "         \n",
        "        for j in range(2, int(a/2) + 1):  \n",
        "             \n",
        "            if (a % j) == 0:  \n",
        "                print(a, \"is not a prime number\")  \n",
        "                break  \n",
        "          \n",
        "        else:  \n",
        "            print(a, \"is a prime number\")  \n",
        "    \n",
        "    else:  \n",
        "        print(a, \"is not a prime number\")  \n",
        "  \n",
        "a = int(input(\"Enter an input number:\"))  \n",
        "\n",
        "PrimeChecker(a) "
      ],
      "metadata": {
        "colab": {
          "base_uri": "https://localhost:8080/"
        },
        "id": "EY-JjEsacqzn",
        "outputId": "fbbafffa-7441-4f15-f1d6-ab076397d2ba"
      },
      "execution_count": null,
      "outputs": [
        {
          "output_type": "stream",
          "name": "stdout",
          "text": [
            "Enter an input number:47\n",
            "47 is a prime number\n"
          ]
        }
      ]
    },
    {
      "cell_type": "code",
      "source": [
        "5. # Write a Python Program to Print all Prime Numbers in an Interval of 1-10000?\n",
        "\n",
        "lower_value = int(input (\"Please, Enter the Lowest Range Value: \"))  \n",
        "upper_value = int(input (\"Please, Enter the Upper Range Value: \"))  \n",
        "  \n",
        "print (\"The Prime Numbers in the range are: \")  \n",
        "for number in range (lower_value, upper_value + 1):  \n",
        "    if number > 1:  \n",
        "        for i in range (2, number):  \n",
        "            if (number % i) == 0:  \n",
        "                break  \n",
        "        else:  \n",
        "            print (number)  "
      ],
      "metadata": {
        "colab": {
          "base_uri": "https://localhost:8080/"
        },
        "id": "t6qFGkQodNSA",
        "outputId": "477aa9f9-eb92-4aab-cec9-643dc569fd0e"
      },
      "execution_count": null,
      "outputs": [
        {
          "output_type": "stream",
          "name": "stdout",
          "text": [
            "Please, Enter the Lowest Range Value: 56\n",
            "Please, Enter the Upper Range Value: 89\n",
            "The Prime Numbers in the range are: \n",
            "59\n",
            "61\n",
            "67\n",
            "71\n",
            "73\n",
            "79\n",
            "83\n",
            "89\n"
          ]
        }
      ]
    },
    {
      "cell_type": "code",
      "source": [
        "# Section D:\n",
        "1. # Write a Python Program to Find the Factorial of a Number?\n",
        "\n",
        "num = int(input(\"Enter a number: \"))    \n",
        "factorial = 1    \n",
        "if num < 0:    \n",
        "   print(\" Factorial does not exist for negative numbers\")    \n",
        "elif num == 0:    \n",
        "   print(\"The factorial of 0 is 1\")    \n",
        "else:    \n",
        "   for i in range(1,num + 1):    \n",
        "       factorial = factorial*i    \n",
        "   print(\"The factorial of\",num,\"is\",factorial) "
      ],
      "metadata": {
        "colab": {
          "base_uri": "https://localhost:8080/"
        },
        "id": "Ksrl9RGZpKgI",
        "outputId": "3c03e137-d540-4b64-db04-2886496bfc20"
      },
      "execution_count": null,
      "outputs": [
        {
          "output_type": "stream",
          "name": "stdout",
          "text": [
            "Enter a number: 56\n",
            "The factorial of 56 is 710998587804863451854045647463724949736497978881168458687447040000000000000\n"
          ]
        }
      ]
    },
    {
      "cell_type": "code",
      "source": [
        "2. # Write a Python Program tTo Display the multiplication Table?\n",
        "\n",
        "number = int(input (\"Enter the number of which the user wants to print the multiplication table: \"))      \n",
        "# We are using \"for loop\" to iterate the multiplication 10 times       \n",
        "print (\"The Multiplication Table of: \", number)    \n",
        "for count in range(1, 11):      \n",
        "   print (number, 'x', count, '=', number * count) "
      ],
      "metadata": {
        "colab": {
          "base_uri": "https://localhost:8080/"
        },
        "id": "mVjpmyFBpl-O",
        "outputId": "38f39d34-9f9a-40aa-82e3-32e717fc8e92"
      },
      "execution_count": null,
      "outputs": [
        {
          "output_type": "stream",
          "name": "stdout",
          "text": [
            "Enter the number of which the user wants to print the multiplication table: 53\n",
            "The Multiplication Table of:  53\n",
            "53 x 1 = 53\n",
            "53 x 2 = 106\n",
            "53 x 3 = 159\n",
            "53 x 4 = 212\n",
            "53 x 5 = 265\n",
            "53 x 6 = 318\n",
            "53 x 7 = 371\n",
            "53 x 8 = 424\n",
            "53 x 9 = 477\n",
            "53 x 10 = 530\n"
          ]
        }
      ]
    },
    {
      "cell_type": "code",
      "source": [
        "3. # Write a Python Program to Print the Fibonacci sequence?\n",
        "\n",
        "n_terms = int(input (\"How many terms the user wants to print? \"))  \n",
        "  \n",
        "  \n",
        "n_1 = 0  \n",
        "n_2 = 1  \n",
        "count = 0  \n",
        "  \n",
        "  \n",
        "if n_terms <= 0:  \n",
        "    print (\"Please enter a positive integer, the given number is not valid\")  \n",
        "  \n",
        "elif n_terms == 1:  \n",
        "    print (\"The Fibonacci sequence of the numbers up to\", n_terms, \": \")  \n",
        "    print(n_1)  \n",
        "  \n",
        "else:  \n",
        "    print (\"The fibonacci sequence of the numbers is:\")  \n",
        "    while count < n_terms:  \n",
        "        print(n_1)  \n",
        "        nth = n_1 + n_2  \n",
        "        \n",
        "        n_1 = n_2  \n",
        "        n_2 = nth  \n",
        "        count += 1  "
      ],
      "metadata": {
        "colab": {
          "base_uri": "https://localhost:8080/"
        },
        "id": "XggsuwHspzle",
        "outputId": "e8e99282-cbb0-4b3e-f72c-edfcd19168a8"
      },
      "execution_count": null,
      "outputs": [
        {
          "output_type": "stream",
          "name": "stdout",
          "text": [
            "How many terms the user wants to print? 63\n",
            "The fibonacci sequence of the numbers is:\n",
            "0\n",
            "1\n",
            "1\n",
            "2\n",
            "3\n",
            "5\n",
            "8\n",
            "13\n",
            "21\n",
            "34\n",
            "55\n",
            "89\n",
            "144\n",
            "233\n",
            "377\n",
            "610\n",
            "987\n",
            "1597\n",
            "2584\n",
            "4181\n",
            "6765\n",
            "10946\n",
            "17711\n",
            "28657\n",
            "46368\n",
            "75025\n",
            "121393\n",
            "196418\n",
            "317811\n",
            "514229\n",
            "832040\n",
            "1346269\n",
            "2178309\n",
            "3524578\n",
            "5702887\n",
            "9227465\n",
            "14930352\n",
            "24157817\n",
            "39088169\n",
            "63245986\n",
            "102334155\n",
            "165580141\n",
            "267914296\n",
            "433494437\n",
            "701408733\n",
            "1134903170\n",
            "1836311903\n",
            "2971215073\n",
            "4807526976\n",
            "7778742049\n",
            "12586269025\n",
            "20365011074\n",
            "32951280099\n",
            "53316291173\n",
            "86267571272\n",
            "139583862445\n",
            "225851433717\n",
            "365435296162\n",
            "591286729879\n",
            "956722026041\n",
            "1548008755920\n",
            "2504730781961\n",
            "4052739537881\n"
          ]
        }
      ]
    },
    {
      "cell_type": "code",
      "source": [
        "4. # Write a Python Program to Check Armstrong Number?\n",
        "\n",
        "num = int(input(\"Enter a number: \"))\n",
        "\n",
        "sum = 0\n",
        "\n",
        "\n",
        "temp = num\n",
        "while temp > 0:\n",
        "   digit = temp % 10\n",
        "   sum += digit ** 3\n",
        "   temp //= 10\n",
        "\n",
        "\n",
        "if num == sum:\n",
        "   print(num,\"is an Armstrong number\")\n",
        "else:\n",
        "   print(num,\"is not an Armstrong number\")"
      ],
      "metadata": {
        "colab": {
          "base_uri": "https://localhost:8080/"
        },
        "id": "wdt7-6HzqgcY",
        "outputId": "dc9a1330-520b-46b2-f64f-e90a3d2cc419"
      },
      "execution_count": null,
      "outputs": [
        {
          "output_type": "stream",
          "name": "stdout",
          "text": [
            "Enter a number: 567\n",
            "567 is not an Armstrong number\n"
          ]
        }
      ]
    },
    {
      "cell_type": "code",
      "source": [],
      "metadata": {
        "id": "jnUN5V9nvu0Z"
      },
      "execution_count": null,
      "outputs": []
    },
    {
      "cell_type": "code",
      "source": [
        "6. # Write a Python Program to Find the Sum of Natural Numbers?\n",
        "\n",
        "num = int(input(\"Enter a number: \"))  \n",
        "  \n",
        "if num < 0:  \n",
        "   print(\"Enter a positive number\")  \n",
        "else:  \n",
        "   sum = 0  \n",
        "   # use while loop to iterate un till zero  \n",
        "   while(num > 0):  \n",
        "       sum += num  \n",
        "       num -= 1  \n",
        "   print(\"The sum is\",sum)"
      ],
      "metadata": {
        "colab": {
          "base_uri": "https://localhost:8080/"
        },
        "id": "0JfAir17qXAq",
        "outputId": "6b8d00e5-0d6b-4aa2-fd33-5f23f00330a6"
      },
      "execution_count": null,
      "outputs": [
        {
          "output_type": "stream",
          "name": "stdout",
          "text": [
            "Enter a number: 58\n",
            "The sum is 1711\n"
          ]
        }
      ]
    },
    {
      "cell_type": "code",
      "source": [
        "# Section E:\n",
        "1. # Write a Python Program to find sum of array?\n",
        "\n",
        "    \n",
        "arr = [1, 2, 3, 4, 5];     \n",
        "sum = 0;    \n",
        "     \n",
        "    \n",
        "for i in range(0, len(arr)):    \n",
        "   sum = sum + arr[i];    \n",
        "     \n",
        "print(\"Sum of all the elements of an array: \" + str(sum)); "
      ],
      "metadata": {
        "id": "Oj2RZX9uraAo",
        "colab": {
          "base_uri": "https://localhost:8080/"
        },
        "outputId": "08ff4e93-614b-467c-c537-186f196cecc3"
      },
      "execution_count": null,
      "outputs": [
        {
          "output_type": "stream",
          "name": "stdout",
          "text": [
            "Sum of all the elements of an array: 15\n"
          ]
        }
      ]
    },
    {
      "cell_type": "code",
      "source": [
        "2. # Write a Python Program to find largest element in an array?\n",
        "\n",
        "    \n",
        "arr = [25, 11, 7, 75, 56];     \n",
        "     \n",
        "    \n",
        "max = arr[0];    \n",
        "     \n",
        "    \n",
        "for i in range(0, len(arr)):    \n",
        "        \n",
        "   if(arr[i] > max):    \n",
        "       max = arr[i];    \n",
        "           \n",
        "print(\"Largest element present in given array: \" + str(max));"
      ],
      "metadata": {
        "colab": {
          "base_uri": "https://localhost:8080/"
        },
        "id": "HL9ARYrrRnK0",
        "outputId": "a8725d1b-9858-49a1-e6fb-837038312832"
      },
      "execution_count": null,
      "outputs": [
        {
          "output_type": "stream",
          "name": "stdout",
          "text": [
            "Largest element present in given array: 75\n"
          ]
        }
      ]
    },
    {
      "cell_type": "code",
      "source": [
        "3. # Write a Python Program for array rotation?\n",
        "\n",
        "     \n",
        "arr = [1, 2, 3, 4, 5];     \n",
        "    \n",
        "n = 3;    \n",
        "     \n",
        "    \n",
        "print(\"Original array: \");    \n",
        "for i in range(0, len(arr)):    \n",
        "    print(arr[i]),     \n",
        "     \n",
        "    \n",
        "for i in range(0, n):    \n",
        "        \n",
        "    first = arr[0];    \n",
        "        \n",
        "    for j in range(0, len(arr)-1):    \n",
        "            \n",
        "        arr[j] = arr[j+1];    \n",
        "            \n",
        "        \n",
        "    arr[len(arr)-1] = first;    \n",
        "     \n",
        "print();    \n",
        "     \n",
        "    \n",
        "print(\"Array after left rotation: \");    \n",
        "for i in range(0, len(arr)):    \n",
        "    print(arr[i]),   "
      ],
      "metadata": {
        "colab": {
          "base_uri": "https://localhost:8080/"
        },
        "id": "PCy5nJXKR_Wi",
        "outputId": "839a4f4b-1827-4699-c5bf-6cd9bfd1fe9b"
      },
      "execution_count": null,
      "outputs": [
        {
          "output_type": "stream",
          "name": "stdout",
          "text": [
            "Original array: \n",
            "1\n",
            "2\n",
            "3\n",
            "4\n",
            "5\n",
            "\n",
            "Array after left rotation: \n",
            "4\n",
            "5\n",
            "1\n",
            "2\n",
            "3\n"
          ]
        }
      ]
    },
    {
      "cell_type": "code",
      "source": [
        "4. # Write a Python Program to Split the array and add the first part to the end?\n",
        "\n",
        "def splitArr(arr, n, k): \n",
        "    for i in range(0, k): \n",
        "        x = arr[0]\n",
        "        for j in range(0, n-1):\n",
        "            arr[j] = arr[j + 1]\n",
        "          \n",
        "        arr[n-1] = x\n",
        "          \n",
        "  \n",
        "# main\n",
        "arr = [12, 10, 5, 6, 52, 36]\n",
        "n = len(arr)\n",
        "position = 2\n",
        "  \n",
        "splitArr(arr, n, position)\n",
        "  \n",
        "for i in range(0, n): \n",
        "    print(arr[i], end = ' ')"
      ],
      "metadata": {
        "colab": {
          "base_uri": "https://localhost:8080/"
        },
        "id": "gdeJfwMxSgO0",
        "outputId": "79aadfa1-5878-486b-97fa-fd793c8fbe75"
      },
      "execution_count": null,
      "outputs": [
        {
          "output_type": "stream",
          "name": "stdout",
          "text": [
            "5 6 52 36 12 10 "
          ]
        }
      ]
    },
    {
      "cell_type": "code",
      "source": [
        "5. # Write a Python Program to check if given array is Monotonic?\n",
        "\n",
        "def isMonotonic(A):\n",
        "    x, y = [], []\n",
        "    x.extend(A)\n",
        "    y.extend(A)\n",
        "    x.sort()\n",
        "    y.sort(reverse=True)\n",
        "    if(x == A or y == A):\n",
        "        return True\n",
        "    return False\n",
        " \n",
        " \n",
        "\n",
        "A = [6, 5, 4, 4]\n",
        " \n",
        "\n",
        "print(isMonotonic(A))"
      ],
      "metadata": {
        "colab": {
          "base_uri": "https://localhost:8080/"
        },
        "id": "i5uC1ReKfnco",
        "outputId": "8ce39716-f85b-4455-94ed-601ade45d985"
      },
      "execution_count": null,
      "outputs": [
        {
          "output_type": "stream",
          "name": "stdout",
          "text": [
            "True\n"
          ]
        }
      ]
    },
    {
      "cell_type": "code",
      "source": [
        "# Section F:\n",
        "1. # Write a Python program to find sum of elements in list?\n",
        "\n",
        "\n",
        " \n",
        "total = 0\n",
        " \n",
        "\n",
        "list1 = [11, 5, 17, 18, 23]\n",
        " \n",
        "\n",
        "for ele in range(0, len(list1)):\n",
        "    total = total + list1[ele]\n",
        " \n",
        "\n",
        "print(\"Sum of all elements in given list: \", total)"
      ],
      "metadata": {
        "colab": {
          "base_uri": "https://localhost:8080/"
        },
        "id": "1W5PAxkigF05",
        "outputId": "4415c4cb-420a-498a-8b0f-a2a05f9324c0"
      },
      "execution_count": null,
      "outputs": [
        {
          "output_type": "stream",
          "name": "stdout",
          "text": [
            "Sum of all elements in given list:  74\n"
          ]
        }
      ]
    },
    {
      "cell_type": "code",
      "source": [
        "2. # Write a Python program to Multiply all numbers in the list?\n",
        "\n",
        "def multiplyList(myList):\n",
        " \n",
        "   \n",
        "    result = 1\n",
        "    for x in myList:\n",
        "        result = result * x\n",
        "    return result\n",
        " \n",
        " \n",
        "\n",
        "list1 = [1, 2, 3]\n",
        "list2 = [3, 2, 4]\n",
        "print(multiplyList(list1))\n",
        "print(multiplyList(list2))"
      ],
      "metadata": {
        "colab": {
          "base_uri": "https://localhost:8080/"
        },
        "id": "8QbhmvYokopj",
        "outputId": "dcf07962-8242-468d-af6e-9f3a8fb6ede1"
      },
      "execution_count": null,
      "outputs": [
        {
          "output_type": "stream",
          "name": "stdout",
          "text": [
            "6\n",
            "24\n"
          ]
        }
      ]
    },
    {
      "cell_type": "code",
      "source": [
        "3. # Write a Python program to find smallest number in a list?\n",
        "\n",
        "list1 = [10, 20, 4, 45, 99]\n",
        " \n",
        "\n",
        "list1.sort()\n",
        " \n",
        "\n",
        "print(\"Smallest element is:\", list1[0])"
      ],
      "metadata": {
        "colab": {
          "base_uri": "https://localhost:8080/"
        },
        "id": "IcjAyUYPk80q",
        "outputId": "35681151-05de-4398-8d7c-ec23150c6eb7"
      },
      "execution_count": null,
      "outputs": [
        {
          "output_type": "stream",
          "name": "stdout",
          "text": [
            "Smallest element is: 4\n"
          ]
        }
      ]
    },
    {
      "cell_type": "code",
      "source": [
        "4. # Write a Python program to find largest number in a list?\n",
        "\n",
        "\n",
        "list1 = [10, 20, 4, 45, 99]\n",
        "\n",
        "\n",
        "list1.sort()\n",
        "\n",
        "\n",
        "print(\"Largest element is:\", list1[-1])\n"
      ],
      "metadata": {
        "id": "nIcR5_oglOW8",
        "colab": {
          "base_uri": "https://localhost:8080/"
        },
        "outputId": "4f4c421f-e42c-41be-e8fd-5b10468c84f1"
      },
      "execution_count": 1,
      "outputs": [
        {
          "output_type": "stream",
          "name": "stdout",
          "text": [
            "Largest element is: 99\n"
          ]
        }
      ]
    },
    {
      "cell_type": "code",
      "source": [
        "5. # Write a Python program to find second largest number in a list?\n",
        "\n",
        "\n",
        "list1 = [10, 20, 4, 45, 99]\n",
        "\n",
        "mx = max(list1[0], list1[1])\n",
        "secondmax = min(list1[0], list1[1])\n",
        "n = len(list1)\n",
        "for i in range(2,n):\n",
        "\tif list1[i] > mx:\n",
        "\t\tsecondmax = mx\n",
        "\t\tmx = list1[i]\n",
        "\telif list1[i] > secondmax and \\\n",
        "\t\tmx != list1[i]:\n",
        "\t\tsecondmax = list1[i]\n",
        "\telif mx == secondmax and \\\n",
        "\t\tsecondmax != list1[i]:\n",
        "\t\tsecondmax = list1[i]\n",
        "\n",
        "print(\"Second highest number is : \",\\\n",
        "\tstr(secondmax))\n"
      ],
      "metadata": {
        "id": "GoACsczclWN9",
        "colab": {
          "base_uri": "https://localhost:8080/"
        },
        "outputId": "a7ee0380-e6e7-4fa1-bcd6-784b7d222cd4"
      },
      "execution_count": 2,
      "outputs": [
        {
          "output_type": "stream",
          "name": "stdout",
          "text": [
            "Second highest number is :  45\n"
          ]
        }
      ]
    },
    {
      "cell_type": "code",
      "source": [
        "6. # Write a Python program to find N largest elements from a list?\n",
        "\n",
        "\n",
        "def Nmaxelements(list1, N):\n",
        "\tfinal_list = []\n",
        "\n",
        "\tfor i in range(0, N):\n",
        "\t\tmax1 = 0\n",
        "\t\t\n",
        "\t\tfor j in range(len(list1)):\t\n",
        "\t\t\tif list1[j] > max1:\n",
        "\t\t\t\tmax1 = list1[j];\n",
        "\t\t\t\t\n",
        "\t\tlist1.remove(max1);\n",
        "\t\tfinal_list.append(max1)\n",
        "\t\t\n",
        "\tprint(final_list)\n",
        "\n",
        "\n",
        "list1 = [2, 6, 41, 85, 0, 3, 7, 6, 10]\n",
        "N = 2\n",
        "\n",
        "\n",
        "Nmaxelements(list1, N)\n"
      ],
      "metadata": {
        "id": "Ei7Xn2qGlbm9",
        "colab": {
          "base_uri": "https://localhost:8080/"
        },
        "outputId": "36c131cf-e7ff-4794-fc83-b9f7795372d8"
      },
      "execution_count": 3,
      "outputs": [
        {
          "output_type": "stream",
          "name": "stdout",
          "text": [
            "[85, 41]\n"
          ]
        }
      ]
    },
    {
      "cell_type": "code",
      "source": [
        "7. # Write a Python program to print even numbers in a list?\n",
        "\n",
        "\n",
        "list1 = [10, 21, 4, 45, 66, 93]\n",
        "\n",
        "\n",
        "for num in list1:\n",
        "\n",
        "\n",
        "\tif num % 2 == 0:\n",
        "\t\tprint(num, end=\" \")\n"
      ],
      "metadata": {
        "id": "jGQGYMNrliAy",
        "colab": {
          "base_uri": "https://localhost:8080/"
        },
        "outputId": "7572fead-dce4-40eb-db4b-7a8b280bdb54"
      },
      "execution_count": 4,
      "outputs": [
        {
          "output_type": "stream",
          "name": "stdout",
          "text": [
            "10 4 66 "
          ]
        }
      ]
    },
    {
      "cell_type": "code",
      "source": [
        "8. # Write a Python program to print odd numbers in a List?\n",
        "\n",
        "\n",
        "\n",
        "list1 = [10, 21, 4, 45, 66, 93]\n",
        "i = 0\n",
        "\n",
        "while(i < len(list1)):\n",
        "\n",
        "\n",
        "\tif list1[i] % 2 != 0:\n",
        "\t\tprint(list1[i], end=\" \")\n",
        "\n",
        "\t\n",
        "\ti += 1\n"
      ],
      "metadata": {
        "id": "liRUgicylm6o",
        "colab": {
          "base_uri": "https://localhost:8080/"
        },
        "outputId": "6d38a4eb-01b3-47a7-842a-f94e4376d098"
      },
      "execution_count": 6,
      "outputs": [
        {
          "output_type": "stream",
          "name": "stdout",
          "text": [
            "21 45 93 "
          ]
        }
      ]
    },
    {
      "cell_type": "code",
      "source": [
        "9. # Write a Python program to Remove empty List from List?\n",
        "\n",
        "\n",
        "test_list = [5, 6, [], 3, [], [], 9]\n",
        "\n",
        "\n",
        "print(\"The original list is : \" + str(test_list))\n",
        "\n",
        "\n",
        "res = [ele for ele in test_list if ele != []]\n",
        "\n",
        "\n",
        "print(\"List after empty list removal : \" + str(res))\n"
      ],
      "metadata": {
        "id": "bPG535XFlsWM",
        "colab": {
          "base_uri": "https://localhost:8080/"
        },
        "outputId": "769b9fb3-ceab-4f19-a724-ef11bb45fad0"
      },
      "execution_count": 7,
      "outputs": [
        {
          "output_type": "stream",
          "name": "stdout",
          "text": [
            "The original list is : [5, 6, [], 3, [], [], 9]\n",
            "List after empty list removal : [5, 6, 3, 9]\n"
          ]
        }
      ]
    },
    {
      "cell_type": "code",
      "source": [
        "10. # Write a Python program to Cloning or Copying a list?\n",
        "\n",
        "\n",
        "def Cloning(li1):\n",
        "\tli_copy = li1[:]\n",
        "\treturn li_copy\n",
        "\n",
        "\n",
        "\n",
        "li1 = [4, 8, 2, 10, 15, 18]\n",
        "li2 = Cloning(li1)\n",
        "print(\"Original List:\", li1)\n",
        "print(\"After Cloning:\", li2)\n"
      ],
      "metadata": {
        "id": "UbpIoJ9ilyvF",
        "colab": {
          "base_uri": "https://localhost:8080/"
        },
        "outputId": "010cc86c-bfc6-4f45-d786-752c7990ae97"
      },
      "execution_count": 8,
      "outputs": [
        {
          "output_type": "stream",
          "name": "stdout",
          "text": [
            "Original List: [4, 8, 2, 10, 15, 18]\n",
            "After Cloning: [4, 8, 2, 10, 15, 18]\n"
          ]
        }
      ]
    },
    {
      "cell_type": "code",
      "source": [
        "11. # Write a Python program to Count occurrences of an element in a list?\n",
        "\n",
        "\n",
        "def countX(lst, x):\n",
        "\tcount = 0\n",
        "\tfor ele in lst:\n",
        "\t\tif (ele == x):\n",
        "\t\t\tcount = count + 1\n",
        "\treturn count\n",
        "\n",
        "\n",
        "\n",
        "lst = [8, 6, 8, 10, 8, 20, 10, 8, 8]\n",
        "x = 8\n",
        "print('{} has occurred {} times'.format(x,\n",
        "\t\t\t\t\t\t\t\t\t\tcountX(lst, x)))\n"
      ],
      "metadata": {
        "id": "EzSUBiO_l4E-",
        "colab": {
          "base_uri": "https://localhost:8080/"
        },
        "outputId": "dd9f8407-c819-42df-d130-69f006961f89"
      },
      "execution_count": 9,
      "outputs": [
        {
          "output_type": "stream",
          "name": "stdout",
          "text": [
            "8 has occurred 5 times\n"
          ]
        }
      ]
    }
  ]
}